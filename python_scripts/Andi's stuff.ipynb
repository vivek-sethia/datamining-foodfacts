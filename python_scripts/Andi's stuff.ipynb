{
 "cells": [
  {
   "cell_type": "code",
   "execution_count": null,
   "metadata": {
    "collapsed": true
   },
   "outputs": [],
   "source": [
    "import pandas as pd\n",
    "import numpy as np\n",
    "import csv\n",
    "import zipfile\n",
    "\n",
    "from matplotlib import pyplot as plt\n",
    "%matplotlib inline\n",
    "filepath = \"../resources/food.csv.zip\"\n",
    "zf = zipfile.ZipFile(filepath)\n",
    "food = pd.read_csv(zf.open('food.csv'), parse_dates=True, dtype=object, delimiter=\"\\t\", quoting=csv.QUOTE_NONE, encoding='utf-8')\n",
    "pd.set_option('display.max_columns', 500)\n",
    "pd.set_option('display.max_rows',10)\n",
    "food"
   ]
  },
  {
   "cell_type": "code",
   "execution_count": null,
   "metadata": {
    "collapsed": true
   },
   "outputs": [],
   "source": [
    "## Andi ##\n",
    "\n",
    "# get a list of all candy tags and combinations of candy tags, get all foods who's tags are in that list.\n",
    "# bad approach because it's slow and if something contains candy tags + non-candy tags (e.g. 'desserts, water')\n",
    "# it falls through the cracks. Sadly I can't figure out how to do\n",
    "# \"for candy_tag in candy_tags: get items where candy_tag in food['categories_tags']\"\n",
    "\n",
    "from itertools import combinations\n",
    "\n",
    "candy_tags = [\"en:sugary-snacks\", \"en:desserts\", \"en:candies\", \"en:chocolates\", \"en:pies\", \"en:puddings\", \n",
    " \"en:biscuits-and-cakes\", \"en:confectioneries\", \"en:chocolate-chip-cookies\", \"en:chocolate-block\", \n",
    " \"en:jelly-crystals\", \"en:carrot-cake\", \"en:chocolate-covered-muesli-bar\"]\n",
    "augmented_tags = candy_tags\n",
    "\n",
    "for i in range(2, 4):\n",
    "    augmented_tags += [\",\".join(map(str, comb)) for comb in combinations(candy_tags, i)]\n",
    "\n",
    "#augmented_tags\n",
    "tagged_candies = food[food['categories_tags'].isin(augmented_tags)]\n",
    "\n",
    "#tagged_candies = [item for item in food if not set(augmented_tags).isdisjoint(item['categories_tags'])]\n",
    "                           \n",
    "tagged_candies"
   ]
  },
  {
   "cell_type": "code",
   "execution_count": null,
   "metadata": {
    "collapsed": true
   },
   "outputs": [],
   "source": [
    "food_not_tagged_as_candy = food[~food['categories_tags'].isin(augmented_tags)]\n",
    "\n",
    "food_not_tagged_as_candy"
   ]
  },
  {
   "cell_type": "code",
   "execution_count": null,
   "metadata": {
    "collapsed": true
   },
   "outputs": [],
   "source": [
    "candies_around_50_carbs = tagged_candies[tagged_candies['carbohydrates_100g'].astype(float) > 47]\n",
    "candies_around_50_carbs = candies_around_50_carbs[candies_around_50_carbs['carbohydrates_100g'].astype(float) < 57]\n",
    "\n",
    "candies_around_50_carbs\n",
    "\n",
    "#candies_below = tagged_candies[tagged_candies['carbohydrates_100g'].astype(float) < 20]\n",
    "#candies_below\n",
    "#candies_above = tagged_candies[tagged_candies['carbohydrates_100g'].astype(float) > 65]\n",
    "#candies_above"
   ]
  },
  {
   "cell_type": "code",
   "execution_count": null,
   "metadata": {
    "collapsed": true
   },
   "outputs": [],
   "source": [
    "candies_around_50_sugar = tagged_candies[tagged_candies['sugars_100g'].astype(float) > 45]\n",
    "candies_around_50_sugar = candies_around_50_carbs[candies_around_50_carbs['sugars_100g'].astype(float) < 55]\n",
    "\n",
    "candies_around_50_sugar\n",
    "\n",
    "#candies_below = tagged_candies[tagged_candies['sugars_100g'].astype(float) < 30]\n",
    "#candies_below\n",
    "candies_above = tagged_candies[tagged_candies['sugars_100g'].astype(float) > 65]\n",
    "candies_above"
   ]
  },
  {
   "cell_type": "code",
   "execution_count": null,
   "metadata": {
    "collapsed": true
   },
   "outputs": [],
   "source": [
    "candies_around_x_fats = tagged_candies[tagged_candies['fat_100g'].astype(float) < 5]\n",
    "candies_around_x_fats = candies_around_x_fats[candies_around_x_fats['fat_100g'].astype(float) < 5]\n",
    "\n",
    "#candies_around_x_fats = candies_around_x_fats[candies_around_x_fats['carbohydrates_100g'].astype(float) > 30]\n",
    "\n",
    "\n",
    "candies_around_x_fats"
   ]
  },
  {
   "cell_type": "code",
   "execution_count": null,
   "metadata": {
    "collapsed": true
   },
   "outputs": [],
   "source": [
    "candies_around_x_sugar = tagged_candies[tagged_candies['sugars_100g'].astype(float) > 22]\n",
    "candies_around_x_sugar = candies_around_x_sugar[candies_around_x_sugar['sugars_100g'].astype(float) < 30]\n",
    "\n",
    "candies_around_x_sugar = candies_around_x_sugar[candies_around_x_sugar['carbohydrates_100g'].astype(float) > 30]\n",
    "\n",
    "\n",
    "candies_around_x_sugar"
   ]
  },
  {
   "cell_type": "code",
   "execution_count": null,
   "metadata": {
    "collapsed": true
   },
   "outputs": [],
   "source": [
    "candies_around_x_carbs = tagged_candies[tagged_candies['carbohydrates_100g'].astype(float) > 22]\n",
    "candies_around_x_carbs = candies_around_x_carbs[candies_around_x_carbs['carbohydrates_100g'].astype(float) < 30]\n",
    "\n",
    "candies_around_x_carbs"
   ]
  },
  {
   "cell_type": "code",
   "execution_count": null,
   "metadata": {
    "collapsed": true
   },
   "outputs": [],
   "source": [
    "import plotly.plotly as py\n",
    "import plotly.graph_objs as go\n",
    "py.sign_in('Odin123', '5Ba7VLNrZsqtUXUatHiZ')\n",
    "\n",
    "candy_sugar = tagged_candies[\"sugars_100g\"].astype(float).mean()\n",
    "others_sugar = food_not_tagged_as_candy[\"sugars_100g\"].astype(float).mean()\n",
    "\n",
    "candy_fat = tagged_candies[\"fat_100g\"].astype(float).mean()\n",
    "others_fat = food_not_tagged_as_candy[\"fat_100g\"].astype(float).mean()\n",
    "\n",
    "candy_energy = tagged_candies[\"energy_100g\"].astype(float).mean() / 1000\n",
    "others_energy = food_not_tagged_as_candy[\"energy_100g\"].astype(float).mean() / 1000\n",
    "\n",
    "candy_carbs = tagged_candies[\"carbohydrates_100g\"].astype(float).mean()\n",
    "others_carbs = food_not_tagged_as_candy[\"carbohydrates_100g\"].astype(float).mean()\n",
    "\n",
    "candy_salt = tagged_candies[\"salt_100g\"].astype(float).mean()\n",
    "others_salt = food_not_tagged_as_candy[\"salt_100g\"].astype(float).mean()\n",
    "\n",
    "candy_nutrition_score = tagged_candies[\"nutrition-score-fr_100g\"].astype(float).mean()\n",
    "others_nutrition_score = food_not_tagged_as_candy[\"nutrition-score-fr_100g\"].astype(float).mean()\n",
    "\n",
    "x_names = [\"sugar\", \"fat\", \"energy (MJ)\", \"carbohydrates\", \"salt\", \"nutrition score\"]\n",
    "y_values_candy = [candy_sugar, candy_fat, candy_energy, candy_carbs, candy_salt, candy_nutrition_score]\n",
    "y_values_others = [others_sugar, others_fat, others_energy, others_carbs, others_salt, others_nutrition_score]\n",
    "\n",
    "trace1 = go.Bar(\n",
    "    x=x_names,\n",
    "    y=y_values_candy,\n",
    "    name='Candy'\n",
    ")\n",
    "trace2 = go.Bar(\n",
    "    x=x_names,\n",
    "    y=y_values_others,\n",
    "    name='Other Foods'\n",
    ")\n",
    "\n",
    "data = [trace1, trace2]\n",
    "layout = go.Layout(\n",
    "    #xaxis=dict(tickangle=-180),\n",
    "    barmode='group',\n",
    "    height=700,\n",
    "    margin=go.Margin(\n",
    "        l=50,\n",
    "        r=50,\n",
    "        b=150,\n",
    "        t=100,\n",
    "        pad=4\n",
    "    ),\n",
    ")\n",
    "\n",
    "fig = go.Figure(data=data, layout=layout)\n",
    "# comment out figure-creation to save API access volume\n",
    "#py.iplot(fig, filename='candy_others_comparison_bars', bbox_inches='tight')"
   ]
  },
  {
   "cell_type": "code",
   "execution_count": null,
   "metadata": {
    "collapsed": true
   },
   "outputs": [],
   "source": [
    "trace1 = go.Histogram(\n",
    "    x=tagged_candies[\"salt_100g\"].astype(float),\n",
    ")\n",
    "\n",
    "layout = go.Layout(\n",
    "    title='Salt (in g) in Candy',\n",
    "    xaxis=dict(\n",
    "        title='salt in 100g (steps of 5)'\n",
    "    ),\n",
    "    yaxis=dict(\n",
    "        title='Number of candy in interval'\n",
    "    ),\n",
    "    bargap=0.01\n",
    ")\n",
    "data = [trace1]\n",
    "\n",
    "fig = go.Figure(data=data, layout=layout)\n",
    "#py.iplot(fig, filename='candy_salt_histo')"
   ]
  },
  {
   "cell_type": "code",
   "execution_count": null,
   "metadata": {
    "collapsed": true
   },
   "outputs": [],
   "source": [
    "trace1 = go.Histogram(\n",
    "    x=tagged_candies[\"sugars_100g\"].astype(float),\n",
    ")\n",
    "\n",
    "layout = go.Layout(\n",
    "    title='Sugar (in g) in Candy',\n",
    "    xaxis=dict(\n",
    "        title='sugar in 100g (steps of 5)'\n",
    "    ),\n",
    "    yaxis=dict(\n",
    "        title='Number of candy in interval'\n",
    "    ),\n",
    "    bargap=0.01\n",
    ")\n",
    "data = [trace1]\n",
    "\n",
    "fig = go.Figure(data=data, layout=layout)\n",
    "#py.iplot(fig, filename='candy_sugar_histo')"
   ]
  },
  {
   "cell_type": "code",
   "execution_count": null,
   "metadata": {
    "collapsed": true
   },
   "outputs": [],
   "source": [
    "trace1 = go.Histogram(\n",
    "    x=tagged_candies[\"fat_100g\"].astype(float),\n",
    ")\n",
    "\n",
    "layout = go.Layout(\n",
    "    title='Fat (in g) in Candy',\n",
    "    xaxis=dict(\n",
    "        title='fat in 100g'\n",
    "    ),\n",
    "    yaxis=dict(\n",
    "        title='Number of candy in interval'\n",
    "    ),\n",
    "    bargap=0.01\n",
    ")\n",
    "data = [trace1]\n",
    "\n",
    "fig = go.Figure(data=data, layout=layout)\n",
    "#py.iplot(fig, filename='candy_fat_histo')"
   ]
  },
  {
   "cell_type": "code",
   "execution_count": null,
   "metadata": {
    "collapsed": true
   },
   "outputs": [],
   "source": [
    "trace1 = go.Histogram(\n",
    "    x=tagged_candies[\"carbohydrates_100g\"].astype(float),\n",
    ")\n",
    "\n",
    "layout = go.Layout(\n",
    "    title='Carbohydrates (in g) in Candy',\n",
    "    xaxis=dict(\n",
    "        title='carbohydrates in 100g (steps of 5)'\n",
    "    ),\n",
    "    yaxis=dict(\n",
    "        title='Number of candy in interval'\n",
    "    ),\n",
    "    bargap=0.01\n",
    ")\n",
    "data = [trace1]\n",
    "\n",
    "fig = go.Figure(data=data, layout=layout)\n",
    "#py.iplot(fig, filename='candy_carbs_histo')"
   ]
  },
  {
   "cell_type": "code",
   "execution_count": null,
   "metadata": {
    "collapsed": true
   },
   "outputs": [],
   "source": [
    "trace1 = go.Histogram(\n",
    "    x=food_not_tagged_as_candy[\"carbohydrates_100g\"].astype(float),\n",
    ")\n",
    "\n",
    "layout = go.Layout(\n",
    "    title='Carbohydrates in Others',\n",
    "    xaxis=dict(\n",
    "        title='carbohydrates in 100g'\n",
    "    ),\n",
    "    yaxis=dict(\n",
    "        title='Number of items in interval'\n",
    "    ),\n",
    "    bargap=0.01\n",
    ")\n",
    "data = [trace1]\n",
    "\n",
    "fig = go.Figure(data=data, layout=layout)\n",
    "#py.iplot(fig, filename='others_carbs_histo')"
   ]
  }
 ],
 "metadata": {
  "anaconda-cloud": {},
  "kernelspec": {
   "display_name": "Python [conda root]",
   "language": "python",
   "name": "conda-root-py"
  },
  "language_info": {
   "codemirror_mode": {
    "name": "ipython",
    "version": 3
   },
   "file_extension": ".py",
   "mimetype": "text/x-python",
   "name": "python",
   "nbconvert_exporter": "python",
   "pygments_lexer": "ipython3",
   "version": "3.5.2"
  }
 },
 "nbformat": 4,
 "nbformat_minor": 1
}
