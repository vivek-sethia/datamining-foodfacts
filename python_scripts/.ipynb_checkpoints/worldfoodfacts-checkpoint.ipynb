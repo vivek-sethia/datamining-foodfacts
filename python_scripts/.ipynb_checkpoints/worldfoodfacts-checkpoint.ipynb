{
 "cells": [
  {
   "cell_type": "code",
   "execution_count": null,
   "metadata": {
    "collapsed": false
   },
   "outputs": [],
   "source": [
    "import pandas as pd\n",
    "import numpy as np\n",
    "import csv\n",
    "import zipfile\n",
    "\n",
    "from matplotlib import pyplot as plt\n",
    "%matplotlib inline\n",
    "filepath = \"../resources/food.csv.zip\"\n",
    "zf = zipfile.ZipFile(filepath)\n",
    "food = pd.read_csv(zf.open('food.csv'), parse_dates=True, dtype=object, delimiter=\"\\t\", quoting=csv.QUOTE_NONE, encoding='utf-8')\n",
    "pd.set_option('display.max_columns', 500)\n",
    "pd.set_option('display.max_rows',10)\n",
    "food"
   ]
  },
  {
   "cell_type": "code",
   "execution_count": null,
   "metadata": {
    "collapsed": false
   },
   "outputs": [],
   "source": [
    "def no_null_objects(data, columns=None):\n",
    "    if columns is None:\n",
    "        columns = data.columns\n",
    "    return data[np.logical_not(np.any(data[columns].isnull().values, axis=1))]"
   ]
  },
  {
   "cell_type": "code",
   "execution_count": null,
   "metadata": {
    "collapsed": false
   },
   "outputs": [],
   "source": [
    "def splitDataFrameList(df, target_column, separator):\n",
    "    def splitListToRows(row, row_accumulator, target_column, separator):\n",
    "        split_row = row[target_column].split(separator)\n",
    "        for s in split_row:\n",
    "            new_row = row.to_dict()\n",
    "            new_row[target_column] = s\n",
    "            row_accumulator.append(new_row)\n",
    "    new_rows = []\n",
    "    df.apply(splitListToRows,axis=1,args = (new_rows,target_column,separator))\n",
    "    new_df = pd.DataFrame(new_rows)\n",
    "    return new_df"
   ]
  },
  {
   "cell_type": "code",
   "execution_count": null,
   "metadata": {
    "collapsed": false
   },
   "outputs": [],
   "source": [
    "food_countries = splitDataFrameList(no_null_objects(food, [\"countries_en\", 'additives_n', 'allergens']), \"countries_en\", \",\")\n",
    "countries = food_countries[\"countries_en\"]\n",
    "countries_temp = (countries.unique())\n",
    "countries_temp"
   ]
  },
  {
   "cell_type": "code",
   "execution_count": null,
   "metadata": {
    "collapsed": false
   },
   "outputs": [],
   "source": [
    "# outliers \n",
    "#food_fat_outlier =food[food['fat_100g'].astype(float) + food['protiens_100g'].astype(float) + food['fat_100g'].astype(float) > 100]\n",
    "#food_fat_outlier\n",
    "\n",
    "food_carbohydrates_outlier =food[food['carbohydrates_100g'].astype(float) > 100]\n",
    "food_carbohydrates_outlier\n",
    "\n",
    "food_fat_outlier =food[food['fat_100g'].astype(float) > 100]\n",
    "food_fat_outlier\n",
    "\n",
    "#food_sugars_outlier =food[food['proteins_100g'].astype(float) > 100]\n",
    "#food_sugars_outlier\n",
    "\n",
    "\n"
   ]
  },
  {
   "cell_type": "code",
   "execution_count": null,
   "metadata": {
    "collapsed": false
   },
   "outputs": [],
   "source": [
    "food_countries['allergens'] = food_countries['allergens'].str.split(',').apply(len)\n",
    "food_countries['additives_n'] = food_countries['additives_n'].astype(int)\n",
    "food_countries\n",
    "#countries_final = np.ndarray.sort(countries_temp)\n",
    "#countries_final"
   ]
  },
  {
   "cell_type": "code",
   "execution_count": null,
   "metadata": {
    "collapsed": false
   },
   "outputs": [],
   "source": [
    "#food_countries.groupby('countries_en', as_index=False)['allergens'].mean()\n",
    "final_data = food_countries.groupby('countries_en', as_index=False)['allergens','additives_n'].mean()\n",
    "\n",
    "pd.set_option('display.max_columns', 500)\n",
    "pd.set_option('display.max_rows',100)\n",
    "\n",
    "plot_data = final_data.sort(['allergens', 'additives_n'], ascending=[0, 0])\n",
    "\n",
    "plot_data"
   ]
  },
  {
   "cell_type": "code",
   "execution_count": null,
   "metadata": {
    "collapsed": true
   },
   "outputs": [],
   "source": [
    "import plotly.plotly as py\n",
    "import plotly.graph_objs as go\n",
    "py.sign_in('viveksethia', 'y0nvnlhe12')\n",
    "\n",
    "\n",
    "trace1 = go.Bar(\n",
    "    x=plot_data['countries_en'][:50],\n",
    "    y=plot_data['allergens'],\n",
    "    name='Allergens'\n",
    ")\n",
    "trace2 = go.Bar(\n",
    "    x=plot_data['countries_en'][:50],\n",
    "    y=plot_data['additives_n'],\n",
    "    name='Additives'\n",
    ")\n",
    "\n",
    "data = [trace1, trace2]\n",
    "layout = go.Layout(\n",
    "    #xaxis=dict(tickangle=-180),\n",
    "    barmode='group',\n",
    "    height=700,\n",
    "    margin=go.Margin(\n",
    "        l=50,\n",
    "        r=50,\n",
    "        b=150,\n",
    "        t=100,\n",
    "        pad=4\n",
    "    ),\n",
    ")\n",
    "\n",
    "fig = go.Figure(data=data, layout=layout)\n",
    "py.iplot(fig, filename='grouped-bar-1', bbox_inches='tight')"
   ]
  },
  {
   "cell_type": "code",
   "execution_count": null,
   "metadata": {
    "collapsed": false
   },
   "outputs": [],
   "source": [
    "\n",
    "food"
   ]
  },
  {
   "cell_type": "code",
   "execution_count": null,
   "metadata": {
    "collapsed": false
   },
   "outputs": [],
   "source": [
    "## Andi ##\n",
    "\n",
    "# get a list of all candy tags and combinations of candy tags, get all foods who's tags are in that list.\n",
    "# bad approach because it's slow and if something contains candy tags + non-candy tags (e.g. 'desserts, water')\n",
    "# it falls through the cracks. Sadly I can't figure out how to do\n",
    "# \"for candy_tag in candy_tags: get items where candy_tag in food['categories_tags']\"\n",
    "\n",
    "from itertools import combinations\n",
    "\n",
    "candy_tags = [\"en:sugary-snacks\", \"en:desserts\", \"en:candies\", \"en:chocolates\", \"en:pies\", \"en:puddings\", \n",
    " \"en:biscuits-and-cakes\", \"en:confectioneries\", \"en:chocolate-chip-cookies\", \"en:chocolate-block\", \n",
    " \"en:jelly-crystals\", \"en:carrot-cake\", \"en:chocolate-covered-muesli-bar\"]\n",
    "augmented_tags = candy_tags\n",
    "\n",
    "for i in range(2, 4):\n",
    "    augmented_tags += [\",\".join(map(str, comb)) for comb in combinations(candy_tags, i)]\n",
    "\n",
    "#augmented_tags\n",
    "tagged_candies = food[food['categories_tags'].isin(augmented_tags)]\n",
    "\n",
    "#tagged_candies = [item for item in food if not set(augmented_tags).isdisjoint(item['categories_tags'])]\n",
    "                           \n",
    "tagged_candies"
   ]
  },
  {
   "cell_type": "code",
   "execution_count": null,
   "metadata": {
    "collapsed": false
   },
   "outputs": [],
   "source": [
    "food_not_tagged_as_candy = food[~food['categories_tags'].isin(augmented_tags)]\n",
    "\n",
    "food_not_tagged_as_candy"
   ]
  },
  {
   "cell_type": "code",
   "execution_count": null,
   "metadata": {
    "collapsed": false,
    "scrolled": true
   },
   "outputs": [],
   "source": [
    "candies_around_50_carbs = tagged_candies[tagged_candies['carbohydrates_100g'].astype(float) > 47]\n",
    "candies_around_50_carbs = candies_around_50_carbs[candies_around_50_carbs['carbohydrates_100g'].astype(float) < 57]\n",
    "\n",
    "candies_around_50_carbs\n",
    "\n",
    "#candies_below = tagged_candies[tagged_candies['carbohydrates_100g'].astype(float) < 20]\n",
    "#candies_below\n",
    "#candies_above = tagged_candies[tagged_candies['carbohydrates_100g'].astype(float) > 65]\n",
    "#candies_above"
   ]
  },
  {
   "cell_type": "code",
   "execution_count": null,
   "metadata": {
    "collapsed": false
   },
   "outputs": [],
   "source": [
    "import plotly.plotly as py\n",
    "import plotly.graph_objs as go\n",
    "py.sign_in('Odin123', '5Ba7VLNrZsqtUXUatHiZ')\n",
    "\n",
    "candy_sugar = tagged_candies[\"sugars_100g\"].astype(float).mean()\n",
    "others_sugar = food_not_tagged_as_candy[\"sugars_100g\"].astype(float).mean()\n",
    "\n",
    "candy_fat = tagged_candies[\"fat_100g\"].astype(float).mean()\n",
    "others_fat = food_not_tagged_as_candy[\"fat_100g\"].astype(float).mean()\n",
    "\n",
    "candy_energy = tagged_candies[\"energy_100g\"].astype(float).mean() / 1000\n",
    "others_energy = food_not_tagged_as_candy[\"energy_100g\"].astype(float).mean() / 1000\n",
    "\n",
    "candy_carbs = tagged_candies[\"carbohydrates_100g\"].astype(float).mean()\n",
    "others_carbs = food_not_tagged_as_candy[\"carbohydrates_100g\"].astype(float).mean()\n",
    "\n",
    "candy_salt = tagged_candies[\"salt_100g\"].astype(float).mean()\n",
    "others_salt = food_not_tagged_as_candy[\"salt_100g\"].astype(float).mean()\n",
    "\n",
    "candy_nutrition_score = tagged_candies[\"nutrition-score-fr_100g\"].astype(float).mean()\n",
    "others_nutrition_score = food_not_tagged_as_candy[\"nutrition-score-fr_100g\"].astype(float).mean()\n",
    "\n",
    "x_names = [\"sugar\", \"fat\", \"energy (MJ)\", \"carbohydrates\", \"salt\", \"nutrition score\"]\n",
    "y_values_candy = [candy_sugar, candy_fat, candy_energy, candy_carbs, candy_salt, candy_nutrition_score]\n",
    "y_values_others = [others_sugar, others_fat, others_energy, others_carbs, others_salt, others_nutrition_score]\n",
    "\n",
    "trace1 = go.Bar(\n",
    "    x=x_names,\n",
    "    y=y_values_candy,\n",
    "    name='Candy'\n",
    ")\n",
    "trace2 = go.Bar(\n",
    "    x=x_names,\n",
    "    y=y_values_others,\n",
    "    name='Other Foods'\n",
    ")\n",
    "\n",
    "data = [trace1, trace2]\n",
    "layout = go.Layout(\n",
    "    #xaxis=dict(tickangle=-180),\n",
    "    barmode='group',\n",
    "    height=700,\n",
    "    margin=go.Margin(\n",
    "        l=50,\n",
    "        r=50,\n",
    "        b=150,\n",
    "        t=100,\n",
    "        pad=4\n",
    "    ),\n",
    ")\n",
    "\n",
    "fig = go.Figure(data=data, layout=layout)\n",
    "py.iplot(fig, filename='candy_others_comparison_bars', bbox_inches='tight')"
   ]
  },
  {
   "cell_type": "code",
   "execution_count": null,
   "metadata": {
    "collapsed": true
   },
   "outputs": [],
   "source": [
    "trace1 = go.Histogram(\n",
    "    x=tagged_candies[\"salt_100g\"].astype(float),\n",
    ")\n",
    "\n",
    "layout = go.Layout(\n",
    "    title='Salt (in g) in Candy',\n",
    "    xaxis=dict(\n",
    "        title='salt in 100g (steps of 5)'\n",
    "    ),\n",
    "    yaxis=dict(\n",
    "        title='Number of candy in interval'\n",
    "    ),\n",
    "    bargap=0.01\n",
    ")\n",
    "data = [trace1]\n",
    "\n",
    "fig = go.Figure(data=data, layout=layout)\n",
    "py.iplot(fig, filename='candy_salt_histo')"
   ]
  },
  {
   "cell_type": "code",
   "execution_count": 101,
   "metadata": {
    "collapsed": false
   },
   "outputs": [
    {
     "data": {
      "text/html": [
       "<iframe id=\"igraph\" scrolling=\"no\" style=\"border:none;\" seamless=\"seamless\" src=\"https://plot.ly/~Odin123/15.embed\" height=\"525px\" width=\"100%\"></iframe>"
      ],
      "text/plain": [
       "<plotly.tools.PlotlyDisplay object>"
      ]
     },
     "execution_count": 101,
     "metadata": {},
     "output_type": "execute_result"
    }
   ],
   "source": [
    "trace1 = go.Histogram(\n",
    "    x=tagged_candies[\"sugars_100g\"].astype(float),\n",
    ")\n",
    "\n",
    "layout = go.Layout(\n",
    "    title='Sugar (in g) in Candy',\n",
    "    xaxis=dict(\n",
    "        title='sugar in 100g (steps of 5)'\n",
    "    ),\n",
    "    yaxis=dict(\n",
    "        title='Number of candy in interval'\n",
    "    ),\n",
    "    bargap=0.01\n",
    ")\n",
    "data = [trace1]\n",
    "\n",
    "fig = go.Figure(data=data, layout=layout)\n",
    "py.iplot(fig, filename='candy_sugar_histo')"
   ]
  },
  {
   "cell_type": "code",
   "execution_count": 100,
   "metadata": {
    "collapsed": false
   },
   "outputs": [
    {
     "data": {
      "text/html": [
       "<iframe id=\"igraph\" scrolling=\"no\" style=\"border:none;\" seamless=\"seamless\" src=\"https://plot.ly/~Odin123/13.embed\" height=\"525px\" width=\"100%\"></iframe>"
      ],
      "text/plain": [
       "<plotly.tools.PlotlyDisplay object>"
      ]
     },
     "execution_count": 100,
     "metadata": {},
     "output_type": "execute_result"
    }
   ],
   "source": [
    "trace1 = go.Histogram(\n",
    "    x=tagged_candies[\"fat_100g\"].astype(float),\n",
    ")\n",
    "\n",
    "layout = go.Layout(\n",
    "    title='Fat (in g) in Candy',\n",
    "    xaxis=dict(\n",
    "        title='fat in 100g (steps of 5)'\n",
    "    ),\n",
    "    yaxis=dict(\n",
    "        title='Number of candy in interval'\n",
    "    ),\n",
    "    bargap=0.01\n",
    ")\n",
    "data = [trace1]\n",
    "\n",
    "fig = go.Figure(data=data, layout=layout)\n",
    "py.iplot(fig, filename='candy_fat_histo')"
   ]
  },
  {
   "cell_type": "code",
   "execution_count": null,
   "metadata": {
    "collapsed": false
   },
   "outputs": [],
   "source": [
    "trace1 = go.Histogram(\n",
    "    x=tagged_candies[\"carbohydrates_100g\"].astype(float),\n",
    ")\n",
    "\n",
    "layout = go.Layout(\n",
    "    title='Carbohydrates (in g) in Candy',\n",
    "    xaxis=dict(\n",
    "        title='carbohydrates in 100g (steps of 5)'\n",
    "    ),\n",
    "    yaxis=dict(\n",
    "        title='Number of candy in interval'\n",
    "    ),\n",
    "    bargap=0.01\n",
    ")\n",
    "data = [trace1]\n",
    "\n",
    "fig = go.Figure(data=data, layout=layout)\n",
    "py.iplot(fig, filename='candy_carbs_histo')"
   ]
  },
  {
   "cell_type": "code",
   "execution_count": null,
   "metadata": {
    "collapsed": false,
    "scrolled": true
   },
   "outputs": [],
   "source": [
    "trace1 = go.Histogram(\n",
    "    x=food_not_tagged_as_candy[\"carbohydrates_100g\"].astype(float),\n",
    ")\n",
    "\n",
    "layout = go.Layout(\n",
    "    title='Carbohydrates in Others',\n",
    "    xaxis=dict(\n",
    "        title='carbohydrates in 100g'\n",
    "    ),\n",
    "    yaxis=dict(\n",
    "        title='Number of items in interval'\n",
    "    ),\n",
    "    bargap=0.01\n",
    ")\n",
    "data = [trace1]\n",
    "\n",
    "fig = go.Figure(data=data, layout=layout)\n",
    "py.iplot(fig, filename='others_carbs_histo')"
   ]
  },
  {
   "cell_type": "code",
   "execution_count": null,
   "metadata": {
    "collapsed": true
   },
   "outputs": [],
   "source": []
  }
 ],
 "metadata": {
  "anaconda-cloud": {},
  "kernelspec": {
   "display_name": "Python [default]",
   "language": "python",
   "name": "python3"
  },
  "language_info": {
   "codemirror_mode": {
    "name": "ipython",
    "version": 3
   },
   "file_extension": ".py",
   "mimetype": "text/x-python",
   "name": "python",
   "nbconvert_exporter": "python",
   "pygments_lexer": "ipython3",
   "version": "3.5.2"
  }
 },
 "nbformat": 4,
 "nbformat_minor": 1
}
