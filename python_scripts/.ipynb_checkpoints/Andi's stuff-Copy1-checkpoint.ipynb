{
 "cells": [
  {
   "cell_type": "code",
   "execution_count": null,
   "metadata": {
    "collapsed": false
   },
   "outputs": [],
   "source": [
    "import pandas as pd\n",
    "import numpy as np\n",
    "import csv\n",
    "import zipfile\n",
    "import re\n",
    "\n",
    "import random\n",
    "import matplotlib as mpl\n",
    "import matplotlib.pyplot as plt\n",
    "\n",
    "from nltk.corpus import stopwords\n",
    "from scipy.misc import imread\n",
    "from sklearn.feature_extraction.stop_words import ENGLISH_STOP_WORDS\n",
    "from wordcloud import WordCloud, STOPWORDS\n",
    "\n",
    "\n",
    "%matplotlib inline\n",
    "filepath = \"../resources/food.csv.zip\"\n",
    "zf = zipfile.ZipFile(filepath)\n",
    "food = pd.read_csv(zf.open('food.csv'), parse_dates=True, dtype=object, delimiter=\"\\t\", quoting=csv.QUOTE_NONE, encoding='utf-8')\n",
    "pd.set_option('display.max_columns', 500)\n",
    "pd.set_option('display.max_rows',10)\n",
    "\n",
    "food"
   ]
  },
  {
   "cell_type": "code",
   "execution_count": null,
   "metadata": {
    "collapsed": false
   },
   "outputs": [],
   "source": [
    "def printCategoryInfo(dataframe, min_values=2):\n",
    "    with pd.option_context('display.max_rows', 99999, 'display.max_columns', 1):\n",
    "        print(\"Product names:\")\n",
    "        printWordOccurences(str(dataframe[\"product_name\"]), min_values)\n",
    "        print(\"-----------\")\n",
    "        print(\"Categories_en:\")\n",
    "        printWordOccurences(str(dataframe[\"categories_en\"]), min_values)\n",
    "        print(\"-----------\")\n",
    "        print(\"Categories_tags:\")\n",
    "        printWordOccurences(str(dataframe[\"categories_tags\"]), min_values)\n",
    "        print(\"-----------\")\n",
    "        print(\"Categories:\")\n",
    "        printWordOccurences(str(dataframe[\"categories\"]), min_values)"
   ]
  },
  {
   "cell_type": "code",
   "execution_count": null,
   "metadata": {
    "collapsed": false
   },
   "outputs": [],
   "source": [
    "def grey_color(word, font_size, position, orientation, random_state=None, **kwargs):\n",
    "    return 'hsl(0, 0%%, %d%%)' % random.randint(50, 100)\n",
    "\n",
    "def draw_wordcloud(text):\n",
    "    # mpl.style.use('dark')\n",
    "    limit = 1000\n",
    "    infosize = 12\n",
    "\n",
    "    fontcolor='#fafafa'\n",
    "    bgcolor = '#000000'\n",
    "    # english_stopwords = set(stopwords.words('english')) | STOPWORDS | ENGLISH_STOP_WORDS\n",
    "    \n",
    "    wordcloud = WordCloud(\n",
    "        max_words=limit,\n",
    "        # stopwords=english_stopwords,\n",
    "        # mask=imread('img/sherlock-holmes-silhouette.png'),\n",
    "        background_color=bgcolor,\n",
    "        #font_path=font\n",
    "    ).generate(text)\n",
    "    \n",
    "    fig = plt.figure()\n",
    "    fig.set_figwidth(14)\n",
    "    fig.set_figheight(18)\n",
    "\n",
    "    plt.imshow(wordcloud.recolor(color_func=grey_color, random_state=3))\n",
    "    #plt.title(title, color=fontcolor, size=30, y=1.01)\n",
    "    #plt.annotate(footer, xy=(0, -.025), xycoords='axes fraction', fontsize=infosize, color=fontcolor)\n",
    "    plt.axis('off')\n",
    "    plt.show()"
   ]
  },
  {
   "cell_type": "code",
   "execution_count": null,
   "metadata": {
    "collapsed": false
   },
   "outputs": [],
   "source": [
    "# from stackoverflow\n",
    "def getWordScores(text):\n",
    "    scores = {}\n",
    "    for word in text.strip().split():\n",
    "        word = word.lower()\n",
    "        scores[word] = scores.get(word,0) + 1\n",
    "    return scores\n",
    "\n",
    "def printWordOccurences(text, min_word_count=0):\n",
    "    import operator\n",
    "    text = getWordScores(text)\n",
    "    sorted_text = sorted(text.items(), key=operator.itemgetter(1))\n",
    "    for i in sorted_text:\n",
    "        if int(i[1]) >= min_word_count:\n",
    "            print(i)"
   ]
  },
  {
   "cell_type": "code",
   "execution_count": null,
   "metadata": {
    "collapsed": false
   },
   "outputs": [],
   "source": [
    "# get a list of all candy tags and combinations of candy tags, get all foods who's tags are in that list.\n",
    "# bad approach because it's slow and if something contains candy tags + non-candy tags (e.g. 'desserts, water')\n",
    "# it falls through the cracks. Sadly I can't figure out how to do\n",
    "# \"for candy_tag in candy_tags: get items where candy_tag in food['categories_tags']\"\n",
    "\n",
    "from itertools import combinations\n",
    "\n",
    "candy_tags = [\"en:sugary-snacks\", \"en:desserts\", \"en:candies\", \"en:chocolates\", \"en:pies\", \"en:puddings\", \n",
    " \"en:biscuits-and-cakes\", \"en:confectioneries\", \"en:chocolate-chip-cookies\", \"en:chocolate-block\", \n",
    " \"en:jelly-crystals\", \"en:carrot-cake\", \"en:chocolate-covered-muesli-bar\"]\n",
    "augmented_tags = candy_tags\n",
    "\n",
    "for i in range(2, 4):\n",
    "    augmented_tags += [\",\".join(map(str, comb)) for comb in combinations(candy_tags, i)]\n",
    "\n",
    "#augmented_tags\n",
    "tagged_candies = food[food['categories_tags'].isin(augmented_tags)]\n",
    "\n",
    "#tagged_candies = [item for item in food if not set(augmented_tags).isdisjoint(item['categories_tags'])]\n",
    "                           \n",
    "tagged_candies"
   ]
  },
  {
   "cell_type": "code",
   "execution_count": null,
   "metadata": {
    "collapsed": false
   },
   "outputs": [],
   "source": [
    "food_not_tagged_as_candy = food[~food['categories_tags'].isin(augmented_tags)]\n",
    "\n",
    "food_not_tagged_as_candy"
   ]
  },
  {
   "cell_type": "code",
   "execution_count": null,
   "metadata": {
    "collapsed": false
   },
   "outputs": [],
   "source": [
    "candies_around_50_carbs = tagged_candies[tagged_candies['carbohydrates_100g'].astype(float) > 47]\n",
    "candies_around_50_carbs = candies_around_50_carbs[candies_around_50_carbs['carbohydrates_100g'].astype(float) < 57]\n",
    "\n",
    "candies_around_50_carbs\n",
    "\n",
    "#candies_below = tagged_candies[tagged_candies['carbohydrates_100g'].astype(float) < 20]\n",
    "#candies_below\n",
    "#candies_above = tagged_candies[tagged_candies['carbohydrates_100g'].astype(float) > 65]\n",
    "#candies_above"
   ]
  },
  {
   "cell_type": "code",
   "execution_count": null,
   "metadata": {
    "collapsed": false
   },
   "outputs": [],
   "source": [
    "candies_around_50_sugar = tagged_candies[tagged_candies['sugars_100g'].astype(float) > 45]\n",
    "candies_around_50_sugar = candies_around_50_carbs[candies_around_50_carbs['sugars_100g'].astype(float) < 55]\n",
    "\n",
    "candies_around_50_sugar\n",
    "\n",
    "#candies_below = tagged_candies[tagged_candies['sugars_100g'].astype(float) < 30]\n",
    "#candies_below\n",
    "candies_above = tagged_candies[tagged_candies['sugars_100g'].astype(float) > 65]\n",
    "candies_above"
   ]
  },
  {
   "cell_type": "code",
   "execution_count": null,
   "metadata": {
    "collapsed": false
   },
   "outputs": [],
   "source": [
    "candies_around_x_fats = tagged_candies[tagged_candies['fat_100g'].astype(float) < 5]\n",
    "candies_around_x_fats = candies_around_x_fats[candies_around_x_fats['fat_100g'].astype(float) < 5]\n",
    "\n",
    "#candies_around_x_fats = candies_around_x_fats[candies_around_x_fats['carbohydrates_100g'].astype(float) > 30]\n",
    "\n",
    "\n",
    "candies_around_x_fats"
   ]
  },
  {
   "cell_type": "code",
   "execution_count": null,
   "metadata": {
    "collapsed": false
   },
   "outputs": [],
   "source": [
    "candies_around_x_sugar = tagged_candies[tagged_candies['sugars_100g'].astype(float) > 22]\n",
    "candies_around_x_sugar = candies_around_x_sugar[candies_around_x_sugar['sugars_100g'].astype(float) < 30]\n",
    "\n",
    "candies_around_x_sugar = candies_around_x_sugar[candies_around_x_sugar['carbohydrates_100g'].astype(float) > 30]\n",
    "\n",
    "\n",
    "candies_around_x_sugar"
   ]
  },
  {
   "cell_type": "code",
   "execution_count": null,
   "metadata": {
    "collapsed": false
   },
   "outputs": [],
   "source": [
    "candies_around_x_carbs = tagged_candies[tagged_candies['carbohydrates_100g'].astype(float) > 22]\n",
    "candies_around_x_carbs = candies_around_x_carbs[candies_around_x_carbs['carbohydrates_100g'].astype(float) < 30]\n",
    "\n",
    "candies_around_x_carbs"
   ]
  },
  {
   "cell_type": "code",
   "execution_count": null,
   "metadata": {
    "collapsed": false
   },
   "outputs": [],
   "source": [
    "import plotly.plotly as py\n",
    "import plotly.graph_objs as go\n",
    "py.sign_in('Odin123', '5Ba7VLNrZsqtUXUatHiZ')\n",
    "\n",
    "candy_sugar = tagged_candies[\"sugars_100g\"].astype(float).mean()\n",
    "others_sugar = food_not_tagged_as_candy[\"sugars_100g\"].astype(float).mean()\n",
    "\n",
    "candy_fat = tagged_candies[\"fat_100g\"].astype(float).mean()\n",
    "others_fat = food_not_tagged_as_candy[\"fat_100g\"].astype(float).mean()\n",
    "\n",
    "candy_energy = tagged_candies[\"energy_100g\"].astype(float).mean() / 1000\n",
    "others_energy = food_not_tagged_as_candy[\"energy_100g\"].astype(float).mean() / 1000\n",
    "\n",
    "candy_carbs = tagged_candies[\"carbohydrates_100g\"].astype(float).mean()\n",
    "others_carbs = food_not_tagged_as_candy[\"carbohydrates_100g\"].astype(float).mean()\n",
    "\n",
    "candy_salt = tagged_candies[\"salt_100g\"].astype(float).mean()\n",
    "others_salt = food_not_tagged_as_candy[\"salt_100g\"].astype(float).mean()\n",
    "\n",
    "candy_nutrition_score = tagged_candies[\"nutrition-score-fr_100g\"].astype(float).mean()\n",
    "others_nutrition_score = food_not_tagged_as_candy[\"nutrition-score-fr_100g\"].astype(float).mean()\n",
    "\n",
    "x_names = [\"sugar\", \"fat\", \"energy (MJ)\", \"carbohydrates\", \"salt\", \"nutrition score\"]\n",
    "y_values_candy = [candy_sugar, candy_fat, candy_energy, candy_carbs, candy_salt, candy_nutrition_score]\n",
    "y_values_others = [others_sugar, others_fat, others_energy, others_carbs, others_salt, others_nutrition_score]\n",
    "\n",
    "trace1 = go.Bar(\n",
    "    x=x_names,\n",
    "    y=y_values_candy,\n",
    "    name='Candy'\n",
    ")\n",
    "trace2 = go.Bar(\n",
    "    x=x_names,\n",
    "    y=y_values_others,\n",
    "    name='Other Foods'\n",
    ")\n",
    "\n",
    "data = [trace1, trace2]\n",
    "layout = go.Layout(\n",
    "    #xaxis=dict(tickangle=-180),\n",
    "    barmode='group',\n",
    "    height=700,\n",
    "    margin=go.Margin(\n",
    "        l=50,\n",
    "        r=50,\n",
    "        b=150,\n",
    "        t=100,\n",
    "        pad=4\n",
    "    ),\n",
    ")\n",
    "\n",
    "fig = go.Figure(data=data, layout=layout)\n",
    "# comment out figure-creation to save API access volume\n",
    "#py.iplot(fig, filename='candy_others_comparison_bars', bbox_inches='tight')"
   ]
  },
  {
   "cell_type": "code",
   "execution_count": null,
   "metadata": {
    "collapsed": false
   },
   "outputs": [],
   "source": [
    "trace1 = go.Histogram(\n",
    "    x=tagged_candies[\"salt_100g\"].astype(float),\n",
    ")\n",
    "\n",
    "layout = go.Layout(\n",
    "    title='Salt (in g) in Candy',\n",
    "    xaxis=dict(\n",
    "        title='salt in 100g (steps of 5)'\n",
    "    ),\n",
    "    yaxis=dict(\n",
    "        title='Number of candy in interval'\n",
    "    ),\n",
    "    bargap=0.01\n",
    ")\n",
    "data = [trace1]\n",
    "\n",
    "fig = go.Figure(data=data, layout=layout)\n",
    "#py.iplot(fig, filename='candy_salt_histo')"
   ]
  },
  {
   "cell_type": "code",
   "execution_count": null,
   "metadata": {
    "collapsed": false
   },
   "outputs": [],
   "source": [
    "trace1 = go.Histogram(\n",
    "    x=tagged_candies[\"sugars_100g\"].astype(float),\n",
    ")\n",
    "\n",
    "layout = go.Layout(\n",
    "    title='Sugar (in g) in Candy',\n",
    "    xaxis=dict(\n",
    "        title='sugar in 100g (steps of 5)'\n",
    "    ),\n",
    "    yaxis=dict(\n",
    "        title='Number of candy in interval'\n",
    "    ),\n",
    "    bargap=0.01\n",
    ")\n",
    "data = [trace1]\n",
    "\n",
    "fig = go.Figure(data=data, layout=layout)\n",
    "#py.iplot(fig, filename='candy_sugar_histo')"
   ]
  },
  {
   "cell_type": "code",
   "execution_count": null,
   "metadata": {
    "collapsed": false
   },
   "outputs": [],
   "source": [
    "trace1 = go.Histogram(\n",
    "    x=tagged_candies[\"fat_100g\"].astype(float),\n",
    ")\n",
    "\n",
    "layout = go.Layout(\n",
    "    title='Fat (in g) in Candy',\n",
    "    xaxis=dict(\n",
    "        title='fat in 100g'\n",
    "    ),\n",
    "    yaxis=dict(\n",
    "        title='Number of candy in interval'\n",
    "    ),\n",
    "    bargap=0.01\n",
    ")\n",
    "data = [trace1]\n",
    "\n",
    "fig = go.Figure(data=data, layout=layout)\n",
    "#py.iplot(fig, filename='candy_fat_histo')"
   ]
  },
  {
   "cell_type": "code",
   "execution_count": null,
   "metadata": {
    "collapsed": false
   },
   "outputs": [],
   "source": [
    "trace1 = go.Histogram(\n",
    "    x=tagged_candies[\"carbohydrates_100g\"].astype(float),\n",
    ")\n",
    "\n",
    "layout = go.Layout(\n",
    "    title='Carbohydrates (in g) in Candy',\n",
    "    xaxis=dict(\n",
    "        title='carbohydrates in 100g (steps of 5)'\n",
    "    ),\n",
    "    yaxis=dict(\n",
    "        title='Number of candy in interval'\n",
    "    ),\n",
    "    bargap=0.01\n",
    ")\n",
    "data = [trace1]\n",
    "\n",
    "fig = go.Figure(data=data, layout=layout)\n",
    "#py.iplot(fig, filename='candy_carbs_histo')"
   ]
  },
  {
   "cell_type": "code",
   "execution_count": null,
   "metadata": {
    "collapsed": false
   },
   "outputs": [],
   "source": [
    "trace1 = go.Histogram(\n",
    "    x=food_not_tagged_as_candy[\"carbohydrates_100g\"].astype(float),\n",
    ")\n",
    "\n",
    "layout = go.Layout(\n",
    "    title='Carbohydrates in Others',\n",
    "    xaxis=dict(\n",
    "        title='carbohydrates in 100g'\n",
    "    ),\n",
    "    yaxis=dict(\n",
    "        title='Number of items in interval'\n",
    "    ),\n",
    "    bargap=0.01\n",
    ")\n",
    "data = [trace1]\n",
    "\n",
    "fig = go.Figure(data=data, layout=layout)\n",
    "#py.iplot(fig, filename='others_carbs_histo')"
   ]
  },
  {
   "cell_type": "code",
   "execution_count": null,
   "metadata": {
    "collapsed": true
   },
   "outputs": [],
   "source": [
    "## WEEK 4 ##\n",
    "\n",
    "trace = go.Scatter(\n",
    "    x = tagged_candies[\"fat_100g\"].astype(float),\n",
    "    y = tagged_candies[\"sugars_100g\"].astype(float),\n",
    "    mode = 'markers'\n",
    ")\n",
    "\n",
    "layout = go.Layout(\n",
    "    title= 'Sweets: Fat to Sugar ratio',\n",
    "    xaxis= dict(\n",
    "        range=[0, 100],\n",
    "        title=\"Fat in g / 100g\"\n",
    "    ),\n",
    "    yaxis=dict(\n",
    "        range=[0, 100],\n",
    "        title=\"Sugars in g / 100g\"\n",
    "    )\n",
    ")\n",
    "\n",
    "data = [trace]\n",
    "\n",
    "fig = go.Figure(data=data, layout=layout)\n",
    "#py.iplot(fig, filename='candy_fat_sugar_ratio_scatter')"
   ]
  },
  {
   "cell_type": "code",
   "execution_count": null,
   "metadata": {
    "collapsed": true
   },
   "outputs": [],
   "source": [
    "trace = go.Scatter(\n",
    "    x = food_not_tagged_as_candy[\"fat_100g\"].astype(float),\n",
    "    y = food_not_tagged_as_candy[\"sugars_100g\"].astype(float),\n",
    "    mode = 'markers'\n",
    ")\n",
    "\n",
    "layout = go.Layout(\n",
    "    title= 'Non-sweets: Fat to Sugar ratio',\n",
    "    xaxis= dict(\n",
    "        range=[0, 100],\n",
    "        title=\"Fat in g / 100g\"\n",
    "    ),\n",
    "    yaxis=dict(\n",
    "        range=[0, 100],\n",
    "        title=\"Sugars in g / 100g\"\n",
    "    )\n",
    ")\n",
    "\n",
    "data = [trace]\n",
    "\n",
    "#fig = go.Figure(data=data, layout=layout)\n",
    "#py.iplot(fig, filename='non-candy_fat_sugar_ratio_scatter')"
   ]
  },
  {
   "cell_type": "code",
   "execution_count": null,
   "metadata": {
    "collapsed": false
   },
   "outputs": [],
   "source": [
    "food_not_tagged_as_candy['fat/sugar'] = food_not_tagged_as_candy['fat_100g'].astype(float) / food_not_tagged_as_candy['sugars_100g'].astype(float)\n",
    "\n",
    "trace = go.Scatter(\n",
    "    x = food_not_tagged_as_candy['fat/sugar'],\n",
    "    y = food_not_tagged_as_candy[\"salt_100g\"].astype(float),\n",
    "    mode = 'markers'\n",
    ")\n",
    "\n",
    "layout = go.Layout(\n",
    "    title= 'Non-sweets: (Fat to Sugar) to salt ratio',\n",
    "    xaxis= dict(\n",
    "        range=[0, 100],\n",
    "        title=\"(Fat to Sugar) in g / 100g\"\n",
    "    ),\n",
    "    yaxis=dict(\n",
    "        range=[0, 100],\n",
    "        title=\"salt in g / 100g\"\n",
    "    )\n",
    ")\n",
    "\n",
    "data = [trace]\n",
    "\n",
    "fig = go.Figure(data=data, layout=layout)\n",
    "#py.iplot(fig, filename='non-candy_fat-sugar_salt_ratio_scatter')"
   ]
  },
  {
   "cell_type": "code",
   "execution_count": null,
   "metadata": {
    "collapsed": true
   },
   "outputs": [],
   "source": [
    "# non-candy in the area where candy is on the same graph: chocolate[~1000], (fruit-based) beverages[~5000] sugary [~2000]\n",
    "low_ratio_non_candy = food_not_tagged_as_candy[food_not_tagged_as_candy['fat/sugar'] <= 1]\n",
    "low_ratio_non_candy = low_ratio_non_candy[low_ratio_non_candy[\"salt_100g\"].astype(float) < 0.4]\n",
    "\n",
    "#printCategoryInfo(low_ratio_non_candy, 200)"
   ]
  },
  {
   "cell_type": "code",
   "execution_count": null,
   "metadata": {
    "collapsed": false
   },
   "outputs": [],
   "source": [
    "tagged_candies['fat/sugar'] = tagged_candies['fat_100g'].astype(float) / tagged_candies['sugars_100g'].astype(float)\n",
    "\n",
    "trace = go.Scatter(\n",
    "    x = tagged_candies['fat/sugar'],\n",
    "    y = tagged_candies[\"salt_100g\"].astype(float),\n",
    "    mode = 'markers'\n",
    ")\n",
    "\n",
    "layout = go.Layout(\n",
    "    title= 'Sweets: (Fat to Sugar) to salt ratio',\n",
    "    xaxis= dict(\n",
    "        range=[0, 100],\n",
    "        title=\"(Fat to Sugar) in g / 100g\"\n",
    "    ),\n",
    "    yaxis=dict(\n",
    "        range=[0, 100],\n",
    "        title=\"salt in g / 100g\"\n",
    "    )\n",
    ")\n",
    "\n",
    "data = [trace]\n",
    "\n",
    "fig = go.Figure(data=data, layout=layout)\n",
    "#py.iplot(fig, filename='candy_fat-sugar_salt_ratio_scatter')"
   ]
  },
  {
   "cell_type": "code",
   "execution_count": null,
   "metadata": {
    "collapsed": true
   },
   "outputs": [],
   "source": [
    "fat_sugar_outlier = tagged_candies[tagged_candies['salt_100g'].astype(float) > 0.47]\n",
    "#print(fat_sugar_outlier)"
   ]
  },
  {
   "cell_type": "code",
   "execution_count": null,
   "metadata": {
    "collapsed": true
   },
   "outputs": [],
   "source": [
    "# outlier to the right\n",
    "candies_at_x_sugar_fat = tagged_candies[tagged_candies['sugars_100g'].astype(float) == 11.7]\n",
    "candies_at_x_sugar_fat = candies_at_x_sugar_fat[candies_at_x_sugar_fat['fat_100g'].astype(float) == 67]\n",
    "\n",
    "#candies_at_x_sugar_fat # Quernons d'ardoise Chocolat et nougatine\n"
   ]
  },
  {
   "cell_type": "code",
   "execution_count": null,
   "metadata": {
    "collapsed": true
   },
   "outputs": [],
   "source": [
    "trace = go.Scatter(\n",
    "    x = food_not_tagged_as_candy['fat/sugar'],\n",
    "    y = food_not_tagged_as_candy[\"energy_100g\"].astype(float),\n",
    "    mode = 'markers'\n",
    ")\n",
    "\n",
    "layout = go.Layout(\n",
    "    title= 'Non-Sweets: (Fat to Sugar) to energy ratio',\n",
    "    xaxis= dict(\n",
    "        range=[0, 100],\n",
    "        title=\"(Fat to Sugar) in g / 100g\"\n",
    "    ),\n",
    "    yaxis=dict(\n",
    "        range=[0, 5000],\n",
    "        title=\"energy in J / 100g\"\n",
    "    )\n",
    ")\n",
    "\n",
    "data = [trace]\n",
    "\n",
    "fig = go.Figure(data=data, layout=layout)\n",
    "#py.iplot(fig, filename='non-candy_fat-sugar_energy_ratio_scatter_limited')"
   ]
  },
  {
   "cell_type": "code",
   "execution_count": null,
   "metadata": {
    "collapsed": true
   },
   "outputs": [],
   "source": [
    "high_energy = food_not_tagged_as_candy[food_not_tagged_as_candy[\"energy_100g\"].astype(float) > 2000000]\n",
    "#print(high_energy)"
   ]
  },
  {
   "cell_type": "code",
   "execution_count": null,
   "metadata": {
    "collapsed": true
   },
   "outputs": [],
   "source": [
    "trace = go.Scatter(\n",
    "    x = tagged_candies['fat/sugar'],\n",
    "    y = tagged_candies[\"energy_100g\"].astype(float),\n",
    "    mode = 'markers'\n",
    ")\n",
    "\n",
    "layout = go.Layout(\n",
    "    title= 'Sweets: (Fat to Sugar) to energy ratio',\n",
    "    xaxis= dict(\n",
    "        range=[0, 100],\n",
    "        title=\"(Fat to Sugar) in g / 100g\"\n",
    "    ),\n",
    "    yaxis=dict(\n",
    "        #range=[0, 100],\n",
    "        title=\"energy in J / 100g\"\n",
    "    )\n",
    ")\n",
    "\n",
    "data = [trace]\n",
    "\n",
    "fig = go.Figure(data=data, layout=layout)\n",
    "#py.iplot(fig, filename='candy_fat-sugar_energy_ratio_scatter')"
   ]
  },
  {
   "cell_type": "code",
   "execution_count": null,
   "metadata": {
    "collapsed": true
   },
   "outputs": [],
   "source": [
    "candies_below_4_fat = tagged_candies[tagged_candies['fat_100g'].astype(float) < 4]\n",
    "\n",
    "# printCategoryInfo(candies_below_4_fat)  # Jelly / Pudding\n",
    "\n",
    "#TODO: split gained info into subgroups \n",
    "#(what differentiates jelly and pudding? Salt or sth?, then get stuff on other values (include the sugar side as well))\n"
   ]
  },
  {
   "cell_type": "code",
   "execution_count": null,
   "metadata": {
    "collapsed": true
   },
   "outputs": [],
   "source": [
    "# <4 fat, <25 sugars, candy: pudding  (+ some haribo & mint)\n",
    "sugars_40_to_60_below_4_fat = candies_below_4_fat[candies_below_4_fat[\"sugars_100g\"].astype(float) <= 25]\n",
    "\n",
    "#printCategoryInfo(candies_below_4_fat)"
   ]
  },
  {
   "cell_type": "code",
   "execution_count": null,
   "metadata": {
    "collapsed": true
   },
   "outputs": [],
   "source": [
    "# <4 fat, <25 sugars, non_candy: drinks, yogurts, fruits\n",
    "sugars_25sugars_below_4_fat_noncandy = food_not_tagged_as_candy[food_not_tagged_as_candy[\"fat_100g\"].astype(float) < 4]\n",
    "sugars_25sugars_below_4_fat_noncandy = sugars_25sugars_below_4_fat_noncandy[sugars_25sugars_below_4_fat_noncandy[\"sugars_100g\"].astype(float) < 25]\n",
    "\n",
    "#printCategoryInfo(sugars_25sugars_below_4_fat_noncandy, 20)"
   ]
  },
  {
   "cell_type": "code",
   "execution_count": null,
   "metadata": {
    "collapsed": true
   },
   "outputs": [],
   "source": [
    "# <4 fat, 40-60 sugars candy: Haribo\n",
    "sugars_40_to_60_below_4_fat = candies_below_4_fat[candies_below_4_fat[\"sugars_100g\"].astype(float) <= 60]\n",
    "sugars_40_to_60_below_4_fat = sugars_40_to_60_below_4_fat[sugars_40_to_60_below_4_fat[\"sugars_100g\"].astype(float) >= 40]\n",
    "\n",
    "# printCategoryInfo(sugars_40_to_60_below_4_fat)"
   ]
  },
  {
   "cell_type": "code",
   "execution_count": null,
   "metadata": {
    "collapsed": true
   },
   "outputs": [],
   "source": [
    "# <4 fat, 40-60 sugars non-candy: beverages, jelly, bonbons\n",
    "sugars_40_to_60_below_4_fat_noncandy = food_not_tagged_as_candy[food_not_tagged_as_candy[\"fat_100g\"].astype(float) < 4]\n",
    "sugars_40_to_60_below_4_fat_noncandy = sugars_40_to_60_below_4_fat_noncandy[sugars_40_to_60_below_4_fat_noncandy[\"sugars_100g\"].astype(float) <= 60]\n",
    "sugars_40_to_60_below_4_fat_noncandy = sugars_40_to_60_below_4_fat_noncandy[sugars_40_to_60_below_4_fat_noncandy[\"sugars_100g\"].astype(float) >= 40]\n",
    "\n",
    "#printCategoryInfo(sugars_40_to_60_below_4_fat_noncandy, 20)\n",
    "\n",
    "# seems like I missed a bunch of tags :xxxx might want to revisit that, then keep looking for clusters to work with"
   ]
  },
  {
   "cell_type": "code",
   "execution_count": null,
   "metadata": {
    "collapsed": true
   },
   "outputs": [],
   "source": [
    "# 30-42 fat, 40-60 sugar  candy: chocolate\n",
    "candies_at_x_sugar_fat = tagged_candies[tagged_candies['fat_100g'].astype(float) > 30]\n",
    "candies_at_x_sugar_fat = candies_at_x_sugar_fat[candies_at_x_sugar_fat['fat_100g'].astype(float) < 42]\n",
    "candies_at_x_sugar_fat = candies_at_x_sugar_fat[candies_at_x_sugar_fat['sugars_100g'].astype(float) > 40]\n",
    "candies_at_x_sugar_fat = candies_at_x_sugar_fat[candies_at_x_sugar_fat['sugars_100g'].astype(float) < 60]\n",
    "\n",
    "#printCategoryInfo(candies_at_x_sugar_fat, 20)"
   ]
  },
  {
   "cell_type": "code",
   "execution_count": null,
   "metadata": {
    "collapsed": false
   },
   "outputs": [],
   "source": [
    "# 30-42 fat, 40-60 sugar  non-candy: chocolate\n",
    "candies_at_x_sugar_fat = food_not_tagged_as_candy[food_not_tagged_as_candy['fat_100g'].astype(float) > 30]\n",
    "candies_at_x_sugar_fat = candies_at_x_sugar_fat[candies_at_x_sugar_fat['fat_100g'].astype(float) < 42]\n",
    "candies_at_x_sugar_fat = candies_at_x_sugar_fat[candies_at_x_sugar_fat['sugars_100g'].astype(float) > 40]\n",
    "candies_at_x_sugar_fat = candies_at_x_sugar_fat[candies_at_x_sugar_fat['sugars_100g'].astype(float) < 60]\n",
    "\n",
    "#printCategoryInfo(candies_at_x_sugar_fat, 20)"
   ]
  },
  {
   "cell_type": "code",
   "execution_count": null,
   "metadata": {
    "collapsed": false
   },
   "outputs": [],
   "source": [
    "### Machine Learning Stuff ###\n",
    "from sklearn_pandas import DataFrameMapper\n",
    "\n",
    "#pd.to_numeric(tagged_candies, errors='coerce')\n",
    "#tagged_candies[['sugars_100g','fat_100g', 'salt_100g', 'energy_100g']] = tagged_candies[['sugars_100g','fat_100g', 'salt_100g', 'energy_100g']].apply(lambda x: pd.to_numeric(x, errors='coerce'))\n",
    "\n",
    "# TODO: use .apply to split tags and find all candies, use sklean-pandas to start some machine learning stuffs"
   ]
  },
  {
   "cell_type": "code",
   "execution_count": null,
   "metadata": {
    "collapsed": true
   },
   "outputs": [],
   "source": [
    "from sklearn.ensemble import RandomForestClassifier\n",
    "from sklearn.model_selection import train_test_split\n",
    "from sklearn.model_selection import cross_val_score\n",
    "\n",
    "\n",
    "# 100 trees, seed for rnd-ness is 22\n",
    "forest = RandomForestClassifier(n_estimators = 100, random_state = 22)\n",
    "\n",
    "prediction_features = pd.read_csv(zf.open('food.csv'), parse_dates=True, dtype=object, delimiter=\"\\t\", quoting=csv.QUOTE_NONE, encoding='utf-8', \n",
    "                                  usecols=[\"sugars_100g\", \n",
    "                                           \"fat_100g\",\n",
    "                                           \"salt_100g\",\n",
    "                                           \"energy_100g\",\n",
    "                                           \"categories_en\",\n",
    "                                          ])\n",
    "\n",
    "# turn all objects (aside from categories) into floats\n",
    "prediction_features = prediction_features.apply(pd.to_numeric, errors='ignore')\n",
    "\n",
    "# remove columns with NA values\n",
    "prediction_features = prediction_features.dropna()\n",
    "# print(prediction_features)\n",
    "\n",
    "# put labels in separate dataframe\n",
    "labels_to_predict = prediction_features[\"categories_en\"]\n",
    "prediction_features.drop('categories_en', axis=1, inplace=True)\n",
    "\n",
    "# turn labels_to_predict from a string-dataframe into a numbers-dataframe (indicating whether the word 'chocolate' is in categories with 1 or 0)\n",
    "indeces = []\n",
    "values = []\n",
    "for index, value in labels_to_predict.iteritems():\n",
    "    indeces.append(index)\n",
    "    if 'chocolate' in value:\n",
    "        values.append(1.0)\n",
    "    else:\n",
    "        values.append(0.0)\n",
    "\n",
    "values = np.asarray(values)  # turn values into np array\n",
    "labels_dict = {'is_chocolate' : pd.Series(values, indeces)} \n",
    "\n",
    "labels_to_predict = pd.DataFrame(labels_dict)\n",
    "\n",
    "for index, value in labels_to_predict['is_chocolate'].iteritems():\n",
    "    pass#print(value)\n",
    "\n",
    "# TODO: need to split this into 3 sets: training, validation(to tweak), test\n",
    "X_train, X_test, y_train, y_test = train_test_split(prediction_features, labels_to_predict, random_state=22)"
   ]
  },
  {
   "cell_type": "code",
   "execution_count": null,
   "metadata": {
    "collapsed": false
   },
   "outputs": [],
   "source": [
    "# build tree (fit) and get cross-val using training data\n",
    "\n",
    "X_train_len = len(X_train[\"fat_100g\"].values)\n",
    "y_train_len = len(y_train[\"is_chocolate\"].values)\n",
    "\n",
    "fat_data = X_train[\"fat_100g\"].values.reshape(X_train_len, 1)\n",
    "sugars_data = X_train[\"sugars_100g\"].values.reshape(X_train_len, 1)\n",
    "salt_data = X_train[\"salt_100g\"].values.reshape(X_train_len, 1)\n",
    "energy_data = X_train[\"energy_100g\"].values.reshape(X_train_len, 1)\n",
    "\n",
    "# combine training data and flatten label-column to list\n",
    "train_data = np.hstack([fat_data, sugars_data, salt_data, energy_data])\n",
    "final_labels_train = np.ravel(y_train)\n",
    "\n",
    "forest = forest.fit(train_data, final_labels_train)\n",
    "\n",
    "# determine cross validation score\n",
    "scores = cross_val_score(forest, train_data, final_labels_train, scoring='accuracy', cv = 5)\n",
    "print(\"Accuracy: %0.2f (+/- %0.2f)\" % (scores.mean(), scores.std() * 2))"
   ]
  },
  {
   "cell_type": "code",
   "execution_count": null,
   "metadata": {
    "collapsed": false
   },
   "outputs": [],
   "source": [
    "# get f1-score based on test data\n",
    "from sklearn.metrics import f1_score\n",
    "from sklearn.metrics import recall_score\n",
    "from sklearn.metrics import precision_score\n",
    "\n",
    "\n",
    "X_test_len = len(X_test[\"fat_100g\"].values)\n",
    "\n",
    "fat_test = X_test[\"fat_100g\"].values.reshape(X_test_len, 1)\n",
    "sugars_test = X_test[\"sugars_100g\"].values.reshape(X_test_len, 1)\n",
    "salt_test = X_test[\"salt_100g\"].values.reshape(X_test_len, 1)\n",
    "energy_test = X_test[\"energy_100g\"].values.reshape(X_test_len, 1)\n",
    "\n",
    "final_data_test = np.hstack([fat_test, sugars_test, salt_test, energy_test])\n",
    "final_labels_test = np.ravel(y_test)\n",
    "\n",
    "y_predicted = forest.predict(final_data_test)\n",
    "for i in y_predicted:\n",
    "    pass#print(i)\n",
    "#y_accurancy = np.mean(final_labels_test == y_predicted) * 100\n",
    "#print(\"Accuracy of test data: {0:.1f}%\".format(y_accurancy))\n",
    "\n",
    "# print(fat_test)\n",
    "\n",
    "recall = recall_score(y_test, y_predicted)\n",
    "precision = precision_score(y_test, y_predicted)\n",
    "f_score = f1_score(y_test, y_predicted)\n",
    "\n",
    "print(\"recall:\" , recall)\n",
    "print(\"precision: \", precision)\n",
    "print(\"f1_score: \", f_score)"
   ]
  },
  {
   "cell_type": "code",
   "execution_count": null,
   "metadata": {
    "collapsed": false,
    "scrolled": true
   },
   "outputs": [],
   "source": [
    "def predict_chocolate(df):\n",
    "    print(\"removing columns with NaN, might prevent aligning original df with predictions; pls remove NaN columns ahead of time\")\n",
    "    # turn everything you can into floats and remove columns with NA values\n",
    "    df = df.apply(pd.to_numeric, errors='ignore')\n",
    "    df = df.dropna(subset=[\"fat_100g\", \"sugars_100g\", \"salt_100g\", \"energy_100g\"])\n",
    "\n",
    "    length = len(df[\"fat_100g\"].values)\n",
    "    \n",
    "    fat_data = df[\"fat_100g\"].values.reshape(length, 1)\n",
    "    sugars_data = df[\"sugars_100g\"].values.reshape(length, 1)\n",
    "    salt_data = df[\"salt_100g\"].values.reshape(length, 1)\n",
    "    energy_data = df[\"energy_100g\"].values.reshape(length, 1)\n",
    "    \n",
    "    # combine training data and flatten label-column to list\n",
    "    final_data = np.hstack([fat_data, sugars_data, salt_data, energy_data])\n",
    "        \n",
    "    \n",
    "    return forest.predict(final_data)\n",
    "\n",
    "#print(predict_chocolate(food))\n",
    "\n",
    "cleansed_candies = tagged_candies.apply(pd.to_numeric, errors='ignore')\n",
    "cleansed_candies = cleansed_candies.dropna(subset=[\"fat_100g\", \"sugars_100g\", \"salt_100g\", \"energy_100g\"])\n",
    "\n",
    "acc = 0\n",
    "for i in (predict_chocolate(cleansed_candies)):\n",
    "    acc += i\n",
    "    \n",
    "print(\"predicts: \", acc)\n",
    "\n",
    "acc = 0\n",
    "for index, value in cleansed_candies['categories_en'].iteritems():\n",
    "    if \"Choc\" in value:\n",
    "        acc += 1\n",
    "\n",
    "print(\"chcocs: \", acc)\n",
    "\n",
    "acc = 0\n",
    "y_predicted = predict_chocolate(cleansed_candies)\n",
    "for i in (y_predicted):\n",
    "    if \"Choc\" in value:\n",
    "        acc += i\n",
    "print(\"true positives: \", acc)\n",
    "# good scores but poor performance in predicting chocolate; good scores come from high amounts of true negatives.\n",
    "# Not great tbh fam"
   ]
  },
  {
   "cell_type": "code",
   "execution_count": null,
   "metadata": {
    "collapsed": false
   },
   "outputs": [],
   "source": [
    "# print precision, recall and f1_score of sweets-only prediction\n",
    "\n",
    "y_test_cleansed_candies = cleansed_candies['categories_en'].copy()\n",
    "for index, value in y_test_cleansed_candies.iteritems():\n",
    "    if \"Choc\" in value:\n",
    "        y_test_cleansed_candies[index] = \"1\"\n",
    "    else:\n",
    "        y_test_cleansed_candies[index] = \"0\"\n",
    "\n",
    "        \n",
    "y_test_cleansed_candies = y_test_cleansed_candies.astype(int).values\n",
    "        \n",
    "# problem: yfind out what y_predicted contains\n",
    "    \n",
    "recall = recall_score(y_test_cleansed_candies, y_predicted)\n",
    "precision = precision_score(y_test_cleansed_candies, y_predicted)\n",
    "f_score = f1_score(y_test_cleansed_candies, y_predicted)\n",
    "\n",
    "print(\"recall:\" , recall)\n",
    "print(\"precision: \", precision)\n",
    "print(\"f1_score: \", f_score)"
   ]
  },
  {
   "cell_type": "code",
   "execution_count": null,
   "metadata": {
    "collapsed": true
   },
   "outputs": [],
   "source": [
    "chocs_only = food.dropna(subset=[\"categories_en\"])\n",
    "chocs_only = chocs_only[chocs_only['categories_en'].str.contains(\"Choc\")]\n",
    "chocs_only = chocs_only.apply(pd.to_numeric, errors='ignore')\n",
    "chocs_only = chocs_only.dropna(subset=[\"fat_100g\", \"sugars_100g\", \"salt_100g\", \"energy_100g\"])\n",
    "\n",
    "trace = go.Scatter(\n",
    "    x = chocs_only['sugars_100g'],\n",
    "    y = chocs_only[\"energy_100g\"].astype(float),\n",
    "    mode = 'markers'\n",
    ")\n",
    "\n",
    "layout = go.Layout(\n",
    "    title= 'Chocolates: sugar to energy',\n",
    "    xaxis= dict(\n",
    "        range=[0, 100],\n",
    "        title=\"sugar in g / 100g\"\n",
    "    ),\n",
    "    yaxis=dict(\n",
    "        #range=[0, 100],\n",
    "        title=\"energy in J / 100g\"\n",
    "    )\n",
    ")\n",
    "\n",
    "data = [trace]\n",
    "\n",
    "fig = go.Figure(data=data, layout=layout)\n",
    "#py.iplot(fig, filename='choc-sugar_energy_ratio_scatter')"
   ]
  },
  {
   "cell_type": "code",
   "execution_count": null,
   "metadata": {
    "collapsed": true
   },
   "outputs": [],
   "source": [
    "trace = go.Scatter(\n",
    "    x = chocs_only['fat_100g'],\n",
    "    y = chocs_only[\"salt_100g\"].astype(float),\n",
    "    mode = 'markers'\n",
    ")\n",
    "\n",
    "layout = go.Layout(\n",
    "    title= 'Chocolates: fat to salt',\n",
    "    xaxis= dict(\n",
    "        range=[0, 100],\n",
    "        title=\"fat in g / 100g\"\n",
    "    ),\n",
    "    yaxis=dict(\n",
    "        #range=[0, 100],\n",
    "        title=\"salt in g / 100g\"\n",
    "    )\n",
    ")\n",
    "\n",
    "data = [trace]\n",
    "\n",
    "fig = go.Figure(data=data, layout=layout)\n",
    "#py.iplot(fig, filename='choc-fat_salt_ratio_scatter')"
   ]
  },
  {
   "cell_type": "code",
   "execution_count": null,
   "metadata": {
    "collapsed": true
   },
   "outputs": [],
   "source": [
    "trace = go.Scatter(\n",
    "    x = food['fat_100g'].astype(float),\n",
    "    y = food[\"salt_100g\"].astype(float),\n",
    "    mode = 'markers'\n",
    ")\n",
    "\n",
    "layout = go.Layout(\n",
    "    title= 'Food: fat to salt',\n",
    "    xaxis= dict(\n",
    "        range=[0, 100],\n",
    "        title=\"fat in g / 100g\"\n",
    "    ),\n",
    "    yaxis=dict(\n",
    "        range=[0, 100],\n",
    "        title=\"salt in g / 100g\"\n",
    "    )\n",
    ")\n",
    "\n",
    "data = [trace]\n",
    "\n",
    "fig = go.Figure(data=data, layout=layout)\n",
    "#py.iplot(fig, filename='food-fat_salt_ratio_scatter')"
   ]
  },
  {
   "cell_type": "code",
   "execution_count": null,
   "metadata": {
    "collapsed": false
   },
   "outputs": [],
   "source": [
    "dark_chocs = chocs_only[chocs_only['categories_en'].str.contains(\"Dark\")]\n",
    "\n",
    "print(len(dark_chocs))\n",
    "#print(dark_chocs)\n",
    "\n",
    "trace1 = go.Scatter(\n",
    "    x = chocs_only['sugars_100g'],\n",
    "    y = chocs_only[\"energy_100g\"].astype(float),\n",
    "    mode = 'markers',\n",
    "    name = \"All Chocolates\",\n",
    "    marker = dict(\n",
    "        color = 'rgba(255, 182, 193, .9)'\n",
    "    )\n",
    ")\n",
    "\n",
    "trace2 = go.Scatter(\n",
    "    x = dark_chocs['sugars_100g'],\n",
    "    y = dark_chocs[\"energy_100g\"].astype(float),\n",
    "    mode = 'markers',\n",
    "    name = \"Dark Chocolates\",\n",
    "    marker = dict(\n",
    "        #size = 10,\n",
    "        color = 'rgba(152, 0, 0, .8)'\n",
    "       # line = dict(\n",
    "       #     width = 2,\n",
    "       #     color = 'rgb(0, 0, 0)'\n",
    "       # )\n",
    "    )\n",
    ")\n",
    "\n",
    "layout = go.Layout(\n",
    "    title= 'Dark Chocolates: sugar to energy',\n",
    "    xaxis= dict(\n",
    "        range=[0, 100],\n",
    "        title=\"sugar in g / 100g\"\n",
    "    ),\n",
    "    yaxis=dict(\n",
    "        #range=[0, 100],\n",
    "        title=\"energy in J / 100g\"\n",
    "    )\n",
    ")\n",
    "\n",
    "data = [trace1, trace2]\n",
    "\n",
    "fig = go.Figure(data=data, layout=layout)\n",
    "#py.iplot(fig, filename='dark_choc-sugar_energy_ratio_scatter')"
   ]
  },
  {
   "cell_type": "code",
   "execution_count": null,
   "metadata": {
    "collapsed": false
   },
   "outputs": [],
   "source": [
    "trace1 = go.Scatter(\n",
    "    x = chocs_only['sugars_100g'],\n",
    "    y = chocs_only[\"energy_100g\"].astype(float),\n",
    "    mode = 'markers',\n",
    "    name = \"All Chocolates\",\n",
    "    marker = dict(\n",
    "        color = 'rgba(255, 182, 193, .9)'\n",
    "    )\n",
    ")\n",
    "\n",
    "trace2 = go.Scatter(\n",
    "    x = dark_chocs['sugars_100g'],\n",
    "    y = dark_chocs[\"energy_100g\"].astype(float),\n",
    "    mode = 'markers',\n",
    "    name = \"Dark Chocolates\",\n",
    "    marker = dict(\n",
    "        #size = 10,\n",
    "        color = 'rgba(152, 0, 0, .8)'\n",
    "       # line = dict(\n",
    "       #     width = 2,\n",
    "       #     color = 'rgb(0, 0, 0)'\n",
    "       # )\n",
    "    )\n",
    ")\n",
    "\n",
    "layout = go.Layout(\n",
    "    title= 'Dark Chocolates: sugar to energy',\n",
    "    xaxis= dict(\n",
    "        range=[0, 100],\n",
    "        title=\"sugar in g / 100g\"\n",
    "    ),\n",
    "    yaxis=dict(\n",
    "        #range=[0, 100],\n",
    "        title=\"energy in J / 100g\"\n",
    "    )\n",
    ")\n",
    "\n",
    "data = [trace1, trace2]\n",
    "\n",
    "fig = go.Figure(data=data, layout=layout)\n",
    "#py.iplot(fig, filename='dark_choc-sugar_energy_ratio_scatter')"
   ]
  },
  {
   "cell_type": "code",
   "execution_count": null,
   "metadata": {
    "collapsed": false
   },
   "outputs": [],
   "source": [
    "# predcols: columns used to predict [str list]\n",
    "# label_cond: substr that has to be part of label for labels_to_predict [str]\n",
    "# returns tuple (forest, y_test, X_test)\n",
    "def train_forest(predcols, label_cond):\n",
    "    cols_to_load = predcols + [\"categories_en\"]\n",
    "    \n",
    "    forest = RandomForestClassifier(n_estimators = 100, random_state = 22)\n",
    "    \n",
    "    prediction_features = pd.read_csv(zf.open('food.csv'), parse_dates=True, dtype=object, delimiter=\"\\t\", quoting=csv.QUOTE_NONE, encoding='utf-8', \n",
    "                                      usecols=cols_to_load)\n",
    "\n",
    "    #print(prediction_features)\n",
    "    \n",
    "    # turn all objects (aside from categories) into floats\n",
    "    prediction_features = prediction_features.apply(pd.to_numeric, errors='ignore')\n",
    "\n",
    "    # remove columns with NA values\n",
    "    prediction_features = prediction_features.dropna()\n",
    "    # print(prediction_features)\n",
    "\n",
    "    # put labels in separate dataframe\n",
    "    labels_to_predict = prediction_features[\"categories_en\"]\n",
    "    prediction_features.drop('categories_en', axis=1, inplace=True)\n",
    "\n",
    "    # turn labels_to_predict from a string-dataframe into a numbers-dataframe (indicating whether the word 'chocolate' is in categories with 1 or 0)\n",
    "    indeces = []\n",
    "    values = []\n",
    "    for index, value in labels_to_predict.iteritems():\n",
    "        indeces.append(index)\n",
    "        if label_cond in value:\n",
    "            values.append(1.0)\n",
    "        else:\n",
    "            values.append(0.0)\n",
    "\n",
    "    predict_labels_id = \"is_\" + label_cond\n",
    "\n",
    "    values = np.asarray(values)  # turn values into np array\n",
    "    labels_dict = {predict_labels_id : pd.Series(values, indeces)} \n",
    "\n",
    "    labels_to_predict = pd.DataFrame(labels_dict)\n",
    "\n",
    "    #for index, value in labels_to_predict[predict_labels_id].iteritems():\n",
    "    #    print(value)\n",
    "\n",
    "    # TODO: need to split this into 3 sets: training, validation(to tweak), test\n",
    "    X_train, X_test, y_train, y_test = train_test_split(prediction_features, labels_to_predict, random_state=22)\n",
    "\n",
    "\n",
    "    X_train_len = len(X_train[predcols[0]].values)\n",
    "    y_train_len = len(y_train[predict_labels_id].values)\n",
    "    \n",
    "    train_data = []\n",
    "    for attribute in predcols:\n",
    "        train_data.append(X_train[attribute].values.reshape(X_train_len, 1))\n",
    "\n",
    "    # combine training data and flatten label-column to list\n",
    "    train_data = np.hstack(train_data)\n",
    "    final_labels_train = np.ravel(y_train)\n",
    "\n",
    "    forest = forest.fit(train_data, final_labels_train)\n",
    "\n",
    "    # determine cross validation score\n",
    "    scores = cross_val_score(forest, train_data, final_labels_train, scoring='accuracy', cv = 5)\n",
    "    print(\"Accuracy: %0.2f (+/- %0.2f)\" % (scores.mean(), scores.std() * 2))\n",
    "    \n",
    "    return (forest, y_test, X_test)\n",
    "\n",
    "def predict(forest, df, predcols):\n",
    "    print(\"removing columns with NaN, might prevent aligning original df with predictions; pls remove NaN columns ahead of time\")\n",
    "    # turn everything you can into floats and remove columns with NA values\n",
    "    df = df.apply(pd.to_numeric, errors='ignore')\n",
    "    df = df.dropna(subset=predcols)\n",
    "\n",
    "    length = len(df[predcols[0]].values)\n",
    "    \n",
    "    pred_data = []\n",
    "    for attribute in predcols:\n",
    "        pred_data.append(df[attribute].values.reshape(length, 1))\n",
    "    \n",
    "    # combine training data and flatten label-column to list\n",
    "    final_data = np.hstack(pred_data)\n",
    "        \n",
    "    return forest.predict(final_data)"
   ]
  },
  {
   "cell_type": "code",
   "execution_count": null,
   "metadata": {
    "collapsed": false
   },
   "outputs": [],
   "source": [
    "predcols = [\"sugars_100g\", \"energy_100g\", \"salt_100g\", \"fat_100g\", \"proteins_100g\", \"carbohydrates_100g\"]\n",
    "dark_choc_forest, dark_choc_y_test, dark_choc_X_test = train_forest(predcols, \"Dark choco\")\n",
    "\n",
    "y_predicted = predict(dark_choc_forest, dark_choc_X_test, predcols)\n",
    "\n",
    "recall = recall_score(dark_choc_y_test, y_predicted)\n",
    "precision = precision_score(dark_choc_y_test, y_predicted)\n",
    "f_score = f1_score(dark_choc_y_test, y_predicted)\n",
    "\n",
    "print(\"recall:\" , recall)\n",
    "print(\"precision: \", precision)\n",
    "print(\"f1_score: \", f_score)"
   ]
  },
  {
   "cell_type": "code",
   "execution_count": null,
   "metadata": {
    "collapsed": false
   },
   "outputs": [],
   "source": [
    "\"\"\"\n",
    "Chocolate predictor:\n",
    "\n",
    "all food:\n",
    "recall: 0.639705882353\n",
    "precision:  0.692307692308\n",
    "f1_score:  0.664968152866\n",
    "    \n",
    "sweets:\n",
    "recall: 0.200680272109\n",
    "precision:  0.983333333333\n",
    "f1_score:  0.333333333333\"\"\"\n",
    "\n",
    "\"\"\"\n",
    "Dark Choc sugar/energy:\n",
    "\n",
    "recall: 0.489010989011\n",
    "precision:  0.585526315789\n",
    "f1_score:  0.532934131737\n",
    "\n",
    "sugar/energy/salt/fat:\n",
    "\n",
    "recall: 0.678362573099\n",
    "precision:  0.738853503185\n",
    "f1_score:  0.707317073171\n",
    "\n",
    "-> all worse if we remove salt\n",
    "-> precision up, rest worse if we add sodium or remove fat\n",
    "\n",
    "\"\"\""
   ]
  },
  {
   "cell_type": "code",
   "execution_count": null,
   "metadata": {
    "collapsed": false
   },
   "outputs": [],
   "source": [
    "print(food)"
   ]
  },
  {
   "cell_type": "code",
   "execution_count": null,
   "metadata": {
    "collapsed": true
   },
   "outputs": [],
   "source": []
  }
 ],
 "metadata": {
  "anaconda-cloud": {},
  "kernelspec": {
   "display_name": "Python [conda root]",
   "language": "python",
   "name": "conda-root-py"
  },
  "language_info": {
   "codemirror_mode": {
    "name": "ipython",
    "version": 3
   },
   "file_extension": ".py",
   "mimetype": "text/x-python",
   "name": "python",
   "nbconvert_exporter": "python",
   "pygments_lexer": "ipython3",
   "version": "3.5.2"
  }
 },
 "nbformat": 4,
 "nbformat_minor": 1
}
